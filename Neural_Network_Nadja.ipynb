{
  "nbformat": 4,
  "nbformat_minor": 0,
  "metadata": {
    "kernelspec": {
      "display_name": "Python 3",
      "language": "python",
      "name": "python3"
    },
    "language_info": {
      "codemirror_mode": {
        "name": "ipython",
        "version": 3
      },
      "file_extension": ".py",
      "mimetype": "text/x-python",
      "name": "python",
      "nbconvert_exporter": "python",
      "pygments_lexer": "ipython3",
      "version": "3.7.6"
    },
    "colab": {
      "name": "Neural Network_Nadja.ipynb",
      "provenance": []
    }
  },
  "cells": [
    {
      "cell_type": "markdown",
      "metadata": {
        "id": "VdptE1byIY_-"
      },
      "source": [
        "# Neural Network from Scratch\n"
      ]
    },
    {
      "cell_type": "markdown",
      "metadata": {
        "id": "RgsYLbYaIZAD"
      },
      "source": [
        "## Import libraries\n",
        "\n",
        "We will be using the lower resolution MINST data set"
      ]
    },
    {
      "cell_type": "code",
      "metadata": {
        "id": "Ny81hH6ZIZAE"
      },
      "source": [
        "# The MNIST dataset is in scikit learn data set\n",
        "from sklearn.datasets import load_digits \n",
        "# It is important in neural networks to scale the date\n",
        "from sklearn.preprocessing import StandardScaler  \n",
        "# The standard - train/test to prevent overfitting and choose hyperparameters\n",
        "from sklearn.model_selection import train_test_split  \n",
        "from sklearn.metrics import accuracy_score\n",
        "import numpy as np\n",
        "# We will randomly initialize our weights\n",
        "import numpy.random as r \n",
        "import matplotlib.pyplot as plt \n",
        "import math"
      ],
      "execution_count": null,
      "outputs": []
    },
    {
      "cell_type": "markdown",
      "metadata": {
        "id": "DNAh-rwsIZAE"
      },
      "source": [
        "## Looking at the data\n",
        "\n",
        "After we load the data, we print the shape of the data and a pixelated digit.\n",
        "\n",
        "We also show what the features of one example looks like.\n",
        "\n",
        "The neural net will learn to estimate which digit these pixels represent."
      ]
    },
    {
      "cell_type": "code",
      "metadata": {
        "colab": {
          "base_uri": "https://localhost:8080/",
          "height": 410
        },
        "id": "tbBaQLsNIZAF",
        "outputId": "5f6f0913-11a4-4f76-aa3b-23d21c2c37d8"
      },
      "source": [
        "# loading all the digits (img)\n",
        "digits = load_digits()\n",
        "# loading the data from the digit (img)\n",
        "X_digit = digits.data\n",
        "\n",
        "print(\"The shape of the digits dataset:\") \n",
        "print(digits.data.shape)\n",
        "\n",
        "# plotting the digits using .gray() and .matshow() with argument digit.images[xx]\n",
        "plt.gray()\n",
        "plt.matshow(digits.images[0])\n",
        "plt.show()\n",
        "\n",
        "# getting the gt for this digit img\n",
        "y = digits.target\n",
        "\n",
        "print(y[0:1])\n",
        "print(X_digit[0,:])"
      ],
      "execution_count": null,
      "outputs": [
        {
          "output_type": "stream",
          "text": [
            "The shape of the digits dataset:\n",
            "(1797, 64)\n"
          ],
          "name": "stdout"
        },
        {
          "output_type": "display_data",
          "data": {
            "text/plain": [
              "<Figure size 432x288 with 0 Axes>"
            ]
          },
          "metadata": {
            "tags": []
          }
        },
        {
          "output_type": "display_data",
          "data": {
            "image/png": "[encoded data removed]",
            "text/plain": [
              "<Figure size 288x288 with 1 Axes>"
            ]
          },
          "metadata": {
            "tags": [],
            "needs_background": "light"
          }
        },
        {
          "output_type": "stream",
          "text": [
            "[0]\n",
            "[ 0.  0.  5. 13.  9.  1.  0.  0.  0.  0. 13. 15. 10. 15.  5.  0.  0.  3.\n",
            " 15.  2.  0. 11.  8.  0.  0.  4. 12.  0.  0.  8.  8.  0.  0.  5.  8.  0.\n",
            "  0.  9.  8.  0.  0.  4. 11.  0.  1. 12.  7.  0.  0.  2. 14.  5. 10. 12.\n",
            "  0.  0.  0.  0.  6. 13. 10.  0.  0.  0.]\n"
          ],
          "name": "stdout"
        }
      ]
    },
    {
      "cell_type": "markdown",
      "metadata": {
        "id": "I4W_wkneIZAF"
      },
      "source": [
        "## 1) Scale the dataset\n",
        "The training features range from 0 to 15.  To help the algorithm converge, we will scale the data to have a mean of 0 and unit variance"
      ]
    },
    {
      "cell_type": "code",
      "metadata": {
        "id": "PzCyDEcoIZAG",
        "colab": {
          "base_uri": "https://localhost:8080/"
        },
        "outputId": "f5cd680d-15fd-40b3-c9c5-794b89c240fd"
      },
      "source": [
        "# using the stander library to scale the data\n",
        "# initialize the scaler \n",
        "scaler = StandardScaler()\n",
        "\n",
        "# fitting the data to the scaler \n",
        "scaler.fit(X_digit)\n",
        "\n",
        "# looking the new features after scaling\n",
        "X = scaler.transform(X_digit)\n",
        "print(\"The dataset after the transormation:\")\n",
        "print(X)\n",
        "print(\"\\nThe mean of the dataset: \", X.mean())"
      ],
      "execution_count": null,
      "outputs": [
        {
          "output_type": "stream",
          "text": [
            "The dataset after the transormation:\n",
            "[[ 0.         -0.33501649 -0.04308102 ... -1.14664746 -0.5056698\n",
            "  -0.19600752]\n",
            " [ 0.         -0.33501649 -1.09493684 ...  0.54856067 -0.5056698\n",
            "  -0.19600752]\n",
            " [ 0.         -0.33501649 -1.09493684 ...  1.56568555  1.6951369\n",
            "  -0.19600752]\n",
            " ...\n",
            " [ 0.         -0.33501649 -0.88456568 ... -0.12952258 -0.5056698\n",
            "  -0.19600752]\n",
            " [ 0.         -0.33501649 -0.67419451 ...  0.8876023  -0.5056698\n",
            "  -0.19600752]\n",
            " [ 0.         -0.33501649  1.00877481 ...  0.8876023  -0.26113572\n",
            "  -0.19600752]]\n",
            "\n",
            "The mean of the dataset:  8.649483775599439e-19\n"
          ],
          "name": "stdout"
        }
      ]
    },
    {
      "cell_type": "markdown",
      "metadata": {
        "id": "qkFWfrvMIZAG"
      },
      "source": [
        "## 2) Creating training and test datasets\n",
        "We split the data into training and test data sets. We will train the neural network with the training dataset, and evaluate our neural network with the test dataset "
      ]
    },
    {
      "cell_type": "code",
      "metadata": {
        "id": "nbn3czUjIZAG"
      },
      "source": [
        "# splitting the data into training and test set (60%, 40%)\n",
        "# using floor and ceil to get rid of the decimals\n",
        "train_amount = math.floor(len(X)*0.6) \n",
        "test_amount = math.ceil(len(X)*0.4)\n",
        "X_train, X_test, y_train, y_test = train_test_split(X, y, train_size = train_amount, test_size = test_amount, shuffle = True)"
      ],
      "execution_count": null,
      "outputs": []
    },
    {
      "cell_type": "markdown",
      "metadata": {
        "id": "WeMc7-coIZAH"
      },
      "source": [
        "## 3) Setting up the output layer"
      ]
    },
    {
      "cell_type": "markdown",
      "metadata": {
        "id": "ZonOOpwSIZAH"
      },
      "source": [
        "### One hot encoding"
      ]
    },
    {
      "cell_type": "code",
      "metadata": {
        "colab": {
          "base_uri": "https://localhost:8080/"
        },
        "id": "zr25s8AbIZAH",
        "outputId": "815ca7b6-2285-42f8-a00a-8b036a364607"
      },
      "source": [
        "def convert_y_to_vect(y):\n",
        "# Our target is an integer in the range [0,..,9], so we will have 10 output neuron's in our network\n",
        "# If y=0 we want the output neurons to have the values (1,0,0,0,0,0,0,0,0,0)\n",
        "# If y=1 we want the output neurons to have the values (0,1,0,0,0,0,0,0,0,0) etc\n",
        "# Thus we need to change our target so it is the same as our hoped for output of the neural network. \n",
        "    \n",
        "    vector = np.zeros(10)\n",
        "    index_to_insert_one = int(y)\n",
        "    vector[index_to_insert_one] = 1\n",
        "    return vector\n",
        "\n",
        "print(convert_y_to_vect(y[0]))\n",
        "print(convert_y_to_vect(y[1])) #etc"
      ],
      "execution_count": null,
      "outputs": [
        {
          "output_type": "stream",
          "text": [
            "[1. 0. 0. 0. 0. 0. 0. 0. 0. 0.]\n",
            "[0. 1. 0. 0. 0. 0. 0. 0. 0. 0.]\n"
          ],
          "name": "stdout"
        }
      ]
    },
    {
      "cell_type": "markdown",
      "metadata": {
        "id": "PaDJwqF8IZAH"
      },
      "source": [
        "Converting the training and test targets to vectors "
      ]
    },
    {
      "cell_type": "code",
      "metadata": {
        "colab": {
          "base_uri": "https://localhost:8080/"
        },
        "id": "Z9kZOpqyIZAH",
        "outputId": "ebe5b5ce-5867-4123-d7ce-076918b19e10"
      },
      "source": [
        "# converting digits to vectors using the function above and applying this to train and test splits\n",
        "y_train_vector = np.array([convert_y_to_vect(v) for v in y_train])\n",
        "y_test_vector = np.array([convert_y_to_vect(v) for v in y_test])\n",
        "print(\"The shapes of converted digits of train and test splits to vectors:\")\n",
        "print(\"Train: \", y_train_vector.shape)\n",
        "print(\"Test: \", y_test_vector.shape)"
      ],
      "execution_count": null,
      "outputs": [
        {
          "output_type": "stream",
          "text": [
            "The shapes of converted digits of train and test splits to vectors:\n",
            "Train:  (1078, 10)\n",
            "Test:  (719, 10)\n"
          ],
          "name": "stdout"
        }
      ]
    },
    {
      "cell_type": "markdown",
      "metadata": {
        "id": "_9wzYJvbIZAI"
      },
      "source": [
        "A quick check to see that our code performs as we expect "
      ]
    },
    {
      "cell_type": "code",
      "metadata": {
        "colab": {
          "base_uri": "https://localhost:8080/"
        },
        "id": "LSL_l_47IZAI",
        "outputId": "4cfa8a2c-9dd1-4344-9792-a60f412d18b4"
      },
      "source": [
        "print(y_train[0:4])\n",
        "print(y_train_vector[0:4])"
      ],
      "execution_count": null,
      "outputs": [
        {
          "output_type": "stream",
          "text": [
            "[3 4 8 2]\n",
            "[[0. 0. 0. 1. 0. 0. 0. 0. 0. 0.]\n",
            " [0. 0. 0. 0. 1. 0. 0. 0. 0. 0.]\n",
            " [0. 0. 0. 0. 0. 0. 0. 0. 1. 0.]\n",
            " [0. 0. 1. 0. 0. 0. 0. 0. 0. 0.]]\n"
          ],
          "name": "stdout"
        }
      ]
    },
    {
      "cell_type": "markdown",
      "metadata": {
        "id": "Rcc_MC5_IZAI"
      },
      "source": [
        "## 4) Creating the neural network"
      ]
    },
    {
      "cell_type": "markdown",
      "metadata": {
        "id": "VQP8175lIZAI"
      },
      "source": [
        "### The activation function and its derivative"
      ]
    },
    {
      "cell_type": "code",
      "metadata": {
        "id": "UsafejBEIZAI"
      },
      "source": [
        "# using the sigmoid activation function:  f(z)={1}/{1+e^{-z}}\n",
        "def sigmoid(z):\n",
        "    return 1 / (1 + np.exp(-z))\n",
        "\n",
        "# the deriviative of the sigmoid function is: $f'(z) = f(z)(1-f(z))$ \n",
        "def sigmoid_deriv(z):\n",
        "    return sigmoid(z) * (1 - sigmoid(z))"
      ],
      "execution_count": null,
      "outputs": []
    },
    {
      "cell_type": "code",
      "metadata": {
        "id": "BprymTc1j3Os"
      },
      "source": [
        "# ReLu - if input is less than 0 output is 0, otherwise output 1\n",
        "def ReLu(z):\n",
        "    # The function is linear for values greater than zero, meaning it has a lot of the desirable properties of a linear activation function when training a neural network using backpropagation.\n",
        "    # Yet, it is a nonlinear function as negative values are always output as zero.\n",
        "    return np.maximum(np.zeros(z.shape),z)  \n",
        "\n",
        "# ReLu derivative\n",
        "def ReLu_deriv(z):\n",
        "    return np.array(z > 0).astype(float)"
      ],
      "execution_count": null,
      "outputs": []
    },
    {
      "cell_type": "code",
      "metadata": {
        "id": "wrpbk8pZkrsF"
      },
      "source": [
        "# tanh\n",
        "def tanh(z):\n",
        "    return (2 / (1 + np.exp(-2*z))) - 1\n",
        "\n",
        "# tahn derivative\n",
        "def tanh_deriv(z):\n",
        "    return 1 - tanh(z)**2"
      ],
      "execution_count": null,
      "outputs": []
    },
    {
      "cell_type": "markdown",
      "metadata": {
        "id": "2npayy1vIZAJ"
      },
      "source": [
        "### Creating and initialing W and b\n"
      ]
    },
    {
      "cell_type": "code",
      "metadata": {
        "id": "JE2wHNVNIZAJ"
      },
      "source": [
        "def setup_and_init_weights(nn_structure):\n",
        "    # the weights in W are different so that during back propagation the nodes on a level will have different gradients and thus have different update values.\n",
        "    # creating a dictionary for wiehgts i.e. a set of key: value pairs\n",
        "    weights = {}\n",
        "    # creating a dictionary for bias i.e. a set of key: value pairs\n",
        "    bias = {}\n",
        "\n",
        "    for i in range(1, len(nn_structure)):\n",
        "        # We want the weights to be small values, since the sigmoid is almost \"flat\" for large inputs.\n",
        "        # Next is the code that assigns each weight a number uniformly drawn from $[0.0, 1.0)$.  \n",
        "        # The code assumes that the number of neurons in each level is in the python list *nn_structure*.\n",
        "        # .random_sample return “continuous uniform” random floats in the half-open interval [0.0, 1.0). \n",
        "        weights[i] = r.random_sample((nn_structure[i], nn_structure[i-1]))\n",
        "        bias[i] = r.random_sample((nn_structure[i], ))\n",
        "        \n",
        "    # returning weights and bias\n",
        "    return weights, bias"
      ],
      "execution_count": null,
      "outputs": []
    },
    {
      "cell_type": "markdown",
      "metadata": {
        "id": "sFml9w00IZAJ"
      },
      "source": [
        "### Initializing $\\triangledown W$ and $\\triangledown b$\n"
      ]
    },
    {
      "cell_type": "code",
      "metadata": {
        "id": "yJY-LNmsIZAJ"
      },
      "source": [
        "def init_tri_values(nn_structure):\n",
        "    # Creating dlt_W and dlt_b to have the same size as W and b,and init the dlt_W, and dlt_b to 0\n",
        "    dlt_W = {}\n",
        "    dlt_b = {}\n",
        "    # using for loop to init the dlt W and dlt b\n",
        "    for i in range(1, len(nn_structure)):\n",
        "        dlt_W[i] = np.zeros((nn_structure[i], nn_structure[i-1]))\n",
        "        dlt_b[i] = np.zeros((nn_structure[i], ))\n",
        "     \n",
        "    return dlt_W, dlt_b"
      ],
      "execution_count": null,
      "outputs": []
    },
    {
      "cell_type": "markdown",
      "metadata": {
        "id": "yLra8js5IZAK"
      },
      "source": [
        "## Feed forward\n",
        "Perform a forward pass throught the network.  The function returns the values of $a$ and $z$"
      ]
    },
    {
      "cell_type": "code",
      "metadata": {
        "id": "pcHVc64yIZAK"
      },
      "source": [
        "def feed_forward(x, W, b, activation_function = sigmoid):\n",
        "    # creating a dictionary for holding the a values for all levels\n",
        "    a = {1:x}\n",
        "    # creating a dictionary for holding the z values for all the layers\n",
        "    z = {}\n",
        "    # for each layer\n",
        "    for i in range(1, len(W)+1): \n",
        "        if i==1:\n",
        "          Nd =x\n",
        "        else:\n",
        "          Nd = a[i]\n",
        "\n",
        "        # z^(l+1) = W^(l)*a^(l) + b^(l)\n",
        "        z[i + 1] = W[i].dot(Nd) + b[i]\n",
        "        # a^(l+1) = f(z^(l+1))\n",
        "        a[i + 1] = activation_function(z[i + 1])                                                 # activation function\n",
        "    return a, z"
      ],
      "execution_count": null,
      "outputs": []
    },
    {
      "cell_type": "markdown",
      "metadata": {
        "id": "kMwGAz_hIZAK"
      },
      "source": [
        "## Compute $\\delta$\n",
        "compute $\\delta^{(s_l)}$ in a function called \"calculate_out_layer_delta\",  and  computes $\\delta^{(\\ell)}$ for the hidden layers in the function called \"calculate_hidden_delta\".  \n",
        "\n"
      ]
    },
    {
      "cell_type": "code",
      "metadata": {
        "id": "NHD7XZduIZAK"
      },
      "source": [
        "def calculate_out_layer_delta(y, a_out, z_out, activation_function_deriv):\n",
        "    # delta^(nl) = -(y_i - a_i^(nl)) * f'(z_i^(nl))\n",
        "    return -(y - a_out) * activation_function_deriv(z_out)                                     # activation funct der\n",
        "\n",
        "def calculate_hidden_delta(delta_plus_1, w_l, z_l, activation_function_deriv):\n",
        "    # delta^(l) = (transpose(W^(l)) * delta^(l+1)) * f'(z^(l))\n",
        "    return np.dot(w_l.T, delta_plus_1) * activation_function_deriv(z_l)                          #  activation funct der"
      ],
      "execution_count": null,
      "outputs": []
    },
    {
      "cell_type": "markdown",
      "metadata": {
        "id": "3Bft7HqtIZAK"
      },
      "source": [
        "## The Back Propagation Algorithm\n"
      ]
    },
    {
      "cell_type": "code",
      "metadata": {
        "id": "d3IEEI4BIZAK"
      },
      "source": [
        "def train_nn(nn_structure, X, y, iter_num=3000, alpha=0.25, activation_function = sigmoid, activation_function_deriv = sigmoid_deriv):\n",
        "    # initializing W and b\n",
        "    W, b = setup_and_init_weights(nn_structure)\n",
        "    # initialize counter to 0\n",
        "    cnt = 0\n",
        "    # storing the length of data\n",
        "    length = len(y)\n",
        "    # initializing a list to store the all costs\n",
        "    costs = []\n",
        "    print('Starting gradient descent for {} iterations'.format(iter_num))\n",
        "    # while the counter is less than the max iterations:\n",
        "    while cnt < iter_num:\n",
        "        # printing the iteration number for every 1000 iter\n",
        "        if cnt % 1000 == 0:\n",
        "          print(\"Iteration number \", cnt)\n",
        "        # initializing delt_W and delt_b\n",
        "        delt_W, delt_b = init_tri_values(nn_structure)\n",
        "        # init the cost to 0\n",
        "        avg_cost = 0\n",
        "        # for each data:\n",
        "        for i in range(length):\n",
        "            delta = {}\n",
        "            # performing the feed forward pass and return the stored a and z values, to be used in the gradient descent step\n",
        "            a, z = feed_forward(X[i, :], W, b, activation_function)\n",
        "            # looping from nl-1 to 1 backpropagating the errors\n",
        "            for l in range(len(nn_structure), 0, -1):\n",
        "                if l == len(nn_structure):\n",
        "                    delta[l] = calculate_out_layer_delta(y[i,:], a[l], z[l], activation_function_deriv)\n",
        "                    avg_cost += np.linalg.norm((y[i,:]-a[l]))\n",
        "          \n",
        "                else:\n",
        "                    if l > 1:\n",
        "                        delta[l] = calculate_hidden_delta(delta[l+1], W[l], z[l], activation_function_deriv)\n",
        "                        \n",
        "                    # triW^(l) = triW^(l) + delta^(l+1) * transpose(a^(l))\n",
        "                    # using np.newaxis to increase the number of dimensions\n",
        "                    delt_W[l] += np.dot(delta[l+1][:,np.newaxis], np.transpose(a[l][:,np.newaxis]))   \n",
        "                    # trib^(l) = trib^(l) + delta^(l+1)\n",
        "                    delt_b[l] += delta[l+1]\n",
        "                \n",
        "        # performing the gradient descent step for the weights in each layer\n",
        "        for l in range(len(nn_structure) - 1, 0, -1):\n",
        "            W[l] += -alpha * (1.0/length * delt_W[l])\n",
        "            b[l] += -alpha * (1.0/length * delt_b[l])\n",
        "        # completing the average cost (mean squared error) calculation\n",
        "        avg_cost = 1.0/length * avg_cost\n",
        "        # appending the cost to the cost list\n",
        "        costs.append(avg_cost)\n",
        "        # increasing the counter \n",
        "        cnt += 1\n",
        "\n",
        "    return W, b, costs"
      ],
      "execution_count": null,
      "outputs": []
    },
    {
      "cell_type": "code",
      "metadata": {
        "id": "lM7ASZZiIZAL"
      },
      "source": [
        "def predict_y(W, b, X, n_layers, activation_function):\n",
        "    # storeing the length of data\n",
        "    l = X.shape[0]\n",
        "    # initializing for prediction array\n",
        "    pred = np.zeros((l,))\n",
        "    # for each data:\n",
        "    for i in range(l):\n",
        "        # feed forward\n",
        "        a, z = feed_forward(X[i, :], W, b, activation_function)\n",
        "        # predict\n",
        "        pred[i] = np.argmax(a[n_layers])\n",
        "    return pred"
      ],
      "execution_count": null,
      "outputs": []
    },
    {
      "cell_type": "markdown",
      "metadata": {
        "id": "-s_70Ez_IZAL"
      },
      "source": [
        "## Running the neural network\n",
        "\n",
        "Our code assumes the size of each layer in our network is held in a list.  The input layer will have 64 neurons (one for each pixel in our 8 by 8 pixelated digit).  Our hidden layer has 30 neurons (you can change this value).  The output layer has 10 neurons.\n",
        "\n",
        "Next we create the python list to hold the number of neurons for each level and then run the neural network code with our training data.\n",
        "\n",
        "This code will take some time..."
      ]
    },
    {
      "cell_type": "code",
      "metadata": {
        "id": "X3hvFLfPIZAL"
      },
      "source": [
        "nn_structure = [64, 30, 10] "
      ],
      "execution_count": null,
      "outputs": []
    },
    {
      "cell_type": "markdown",
      "metadata": {
        "id": "HpVPRzYCIZAL"
      },
      "source": [
        "### Plotting the learning curve and the accuracy determining what percentage the neural network correctly predicted the handwritten digit correctly on the test set\n",
        "Iterations: 3000\n",
        "alpha: 0.25"
      ]
    },
    {
      "cell_type": "code",
      "metadata": {
        "id": "OR-S8512IZAM",
        "colab": {
          "base_uri": "https://localhost:8080/",
          "height": 413
        },
        "outputId": "ebbee7a0-48ba-4062-d5f9-3817990d2485"
      },
      "source": [
        "# train the NN with the nn_structure and 3000 iterationss\n",
        "W, b, costs = train_nn(nn_structure, X_train, y_train_vector, iter_num=3000, alpha=0.25, activation_function = sigmoid, activation_function_deriv = sigmoid_deriv)\n",
        "# plot the avg_cost_func \n",
        "plt.plot(costs)  \n",
        "# x label: \"Iteration number\"\n",
        "plt.xlabel('Iteration number')\n",
        "# y label: \"Average J\"\n",
        "plt.ylabel('Average J')\n",
        "plt.title(\"Activation function: sigmoid\")\n",
        "plt.show()\n",
        "\n",
        "# get the prediction accuracy and print\n",
        "y_pred = predict_y(W, b, X_test, 3, activation_function= sigmoid)\n",
        "print('\\n\\nPrediction accuracy is {}%'.format(accuracy_score(y_test, y_pred) * 100))"
      ],
      "execution_count": null,
      "outputs": [
        {
          "output_type": "stream",
          "text": [
            "Starting gradient descent for 3000 iterations\n",
            "Iteration number  0\n",
            "Iteration number  1000\n",
            "Iteration number  2000\n"
          ],
          "name": "stdout"
        },
        {
          "output_type": "display_data",
          "data": {
            "image/png": "[encoded data removed]",
            "text/plain": [
              "<Figure size 432x288 with 1 Axes>"
            ]
          },
          "metadata": {
            "tags": [],
            "needs_background": "light"
          }
        },
        {
          "output_type": "stream",
          "text": [
            "\n",
            "\n",
            "Prediction accuracy is 87.0653685674548%\n"
          ],
          "name": "stdout"
        }
      ]
    },
    {
      "cell_type": "code",
      "metadata": {
        "colab": {
          "base_uri": "https://localhost:8080/",
          "height": 413
        },
        "id": "bWu-zxlgbrLO",
        "outputId": "cccb5163-35f4-477a-e91b-9996fa74f0f2"
      },
      "source": [
        "W, b, costs = train_nn(nn_structure, X_train, y_train_vector, iter_num=3000, alpha=0.25, activation_function = ReLu, activation_function_deriv = ReLu_deriv)\n",
        "# plot the avg_cost_func \n",
        "plt.plot(costs)  \n",
        "# x label: \"Iteration number\"\n",
        "plt.xlabel('Iteration number')\n",
        "# y label: \"Average J\"\n",
        "plt.ylabel('Average J')\n",
        "plt.title(\"Activation function: ReLu\")\n",
        "plt.show()\n",
        "\n",
        "# get the prediction accuracy and print\n",
        "y_pred = predict_y(W, b, X_test, 3, activation_function= ReLu)\n",
        "print('\\n\\nPrediction accuracy is {}%'.format(accuracy_score(y_test, y_pred) * 100))"
      ],
      "execution_count": null,
      "outputs": [
        {
          "output_type": "stream",
          "text": [
            "Starting gradient descent for 3000 iterations\n",
            "Iteration number  0\n",
            "Iteration number  1000\n",
            "Iteration number  2000\n"
          ],
          "name": "stdout"
        },
        {
          "output_type": "display_data",
          "data": {
            "image/png": "[encoded data removed]",
            "text/plain": [
              "<Figure size 432x288 with 1 Axes>"
            ]
          },
          "metadata": {
            "tags": [],
            "needs_background": "light"
          }
        },
        {
          "output_type": "stream",
          "text": [
            "\n",
            "\n",
            "Prediction accuracy is 9.457579972183588%\n"
          ],
          "name": "stdout"
        }
      ]
    },
    {
      "cell_type": "code",
      "metadata": {
        "colab": {
          "base_uri": "https://localhost:8080/",
          "height": 413
        },
        "id": "WLpbW4-Tb7G8",
        "outputId": "371e818e-c0e1-4be0-a279-988a351a3433"
      },
      "source": [
        "W, b, costs = train_nn(nn_structure, X_train, y_train_vector, iter_num=3000, alpha=0.25, activation_function = tanh, activation_function_deriv = tanh_deriv)\n",
        "# plot the avg_cost_func \n",
        "plt.plot(costs)  \n",
        "# x label: \"Iteration number\"\n",
        "plt.xlabel('Iteration number')\n",
        "# y label: \"Average J\"\n",
        "plt.ylabel('Average J')\n",
        "plt.title(\"Activation function: tanh\")\n",
        "plt.show()\n",
        "\n",
        "# get the prediction accuracy and print\n",
        "y_pred = predict_y(W, b, X_test, 3, activation_function= tanh)\n",
        "print('\\n\\nPrediction accuracy is {}%'.format(accuracy_score(y_test, y_pred) * 100))"
      ],
      "execution_count": null,
      "outputs": [
        {
          "output_type": "stream",
          "text": [
            "Starting gradient descent for 3000 iterations\n",
            "Iteration number  0\n",
            "Iteration number  1000\n",
            "Iteration number  2000\n"
          ],
          "name": "stdout"
        },
        {
          "output_type": "display_data",
          "data": {
            "image/png": "[encoded data removed]",
            "text/plain": [
              "<Figure size 432x288 with 1 Axes>"
            ]
          },
          "metadata": {
            "tags": [],
            "needs_background": "light"
          }
        },
        {
          "output_type": "stream",
          "text": [
            "\n",
            "\n",
            "Prediction accuracy is 85.95271210013908%\n"
          ],
          "name": "stdout"
        }
      ]
    },
    {
      "cell_type": "markdown",
      "metadata": {
        "id": "ia6Uh3AzjAKj"
      },
      "source": [
        "Experimenting with different alpha values - alpha = 0.5 and alpha = 0.8"
      ]
    },
    {
      "cell_type": "code",
      "metadata": {
        "colab": {
          "base_uri": "https://localhost:8080/",
          "height": 413
        },
        "id": "fqgvAfXSjMAi",
        "outputId": "b36a2800-ba89-42c5-88da-49473b42efe7"
      },
      "source": [
        "# train the NN with the nn_structure and 3000 iterations and alpha 0.5\n",
        "W, b, costs = train_nn(nn_structure, X_train, y_train_vector, iter_num=3000, alpha=0.5, activation_function = sigmoid, activation_function_deriv = sigmoid_deriv)\n",
        "# plot the avg_cost_func \n",
        "plt.plot(costs)  \n",
        "# x label: \"Iteration number\"\n",
        "plt.xlabel('Iteration number')\n",
        "# y label: \"Average J\"\n",
        "plt.ylabel('Average J')\n",
        "plt.title(\"Activation function: sigmoid, alpha = 0.5\")\n",
        "plt.show()\n",
        "\n",
        "# get the prediction accuracy and print\n",
        "y_pred = predict_y(W, b, X_test, 3, activation_function= sigmoid)\n",
        "print('\\n\\nPrediction accuracy is {}%'.format(accuracy_score(y_test, y_pred) * 100))"
      ],
      "execution_count": null,
      "outputs": [
        {
          "output_type": "stream",
          "text": [
            "Starting gradient descent for 3000 iterations\n",
            "Iteration number  0\n",
            "Iteration number  1000\n",
            "Iteration number  2000\n"
          ],
          "name": "stdout"
        },
        {
          "output_type": "display_data",
          "data": {
            "image/png": "[encoded data removed]",
            "text/plain": [
              "<Figure size 432x288 with 1 Axes>"
            ]
          },
          "metadata": {
            "tags": [],
            "needs_background": "light"
          }
        },
        {
          "output_type": "stream",
          "text": [
            "\n",
            "\n",
            "Prediction accuracy is 93.04589707927677%\n"
          ],
          "name": "stdout"
        }
      ]
    },
    {
      "cell_type": "code",
      "metadata": {
        "colab": {
          "base_uri": "https://localhost:8080/",
          "height": 413
        },
        "id": "Tt7eJSEsjPWK",
        "outputId": "44e8fb74-0d44-4b77-a5ef-b107c306c405"
      },
      "source": [
        "W, b, costs = train_nn(nn_structure, X_train, y_train_vector, iter_num=3000, alpha=0.5, activation_function = ReLu, activation_function_deriv = ReLu_deriv)\n",
        "# plot the avg_cost_func \n",
        "plt.plot(costs)  \n",
        "# x label: \"Iteration number\"\n",
        "plt.xlabel('Iteration number')\n",
        "# y label: \"Average J\"\n",
        "plt.ylabel('Average J')\n",
        "plt.title(\"Activation function: ReLu, alpha = 0.5\")\n",
        "plt.show()\n",
        "\n",
        "# get the prediction accuracy and print\n",
        "y_pred = predict_y(W, b, X_test, 3, activation_function= ReLu)\n",
        "print('\\n\\nPrediction accuracy is {}%'.format(accuracy_score(y_test, y_pred) * 100))"
      ],
      "execution_count": null,
      "outputs": [
        {
          "output_type": "stream",
          "text": [
            "Starting gradient descent for 3000 iterations\n",
            "Iteration number  0\n",
            "Iteration number  1000\n",
            "Iteration number  2000\n"
          ],
          "name": "stdout"
        },
        {
          "output_type": "display_data",
          "data": {
            "image/png": "[encoded data removed]",
            "text/plain": [
              "<Figure size 432x288 with 1 Axes>"
            ]
          },
          "metadata": {
            "tags": [],
            "needs_background": "light"
          }
        },
        {
          "output_type": "stream",
          "text": [
            "\n",
            "\n",
            "Prediction accuracy is 9.457579972183588%\n"
          ],
          "name": "stdout"
        }
      ]
    },
    {
      "cell_type": "code",
      "metadata": {
        "colab": {
          "base_uri": "https://localhost:8080/",
          "height": 413
        },
        "id": "EcixtEuEjTQz",
        "outputId": "83e8664d-691d-44a2-fa3d-95bd0e9a8876"
      },
      "source": [
        "W, b, costs = train_nn(nn_structure, X_train, y_train_vector, iter_num=3000, alpha=0.5, activation_function = tanh, activation_function_deriv = tanh_deriv)\n",
        "# plot the avg_cost_func \n",
        "plt.plot(costs)  \n",
        "# x label: \"Iteration number\"\n",
        "plt.xlabel('Iteration number')\n",
        "# y label: \"Average J\"\n",
        "plt.ylabel('Average J')\n",
        "plt.title(\"Activation function: tanh, alpha = 0.5\")\n",
        "plt.show()\n",
        "\n",
        "# get the prediction accuracy and print\n",
        "y_pred = predict_y(W, b, X_test, 3, activation_function= tanh)\n",
        "print('\\n\\nPrediction accuracy is {}%'.format(accuracy_score(y_test, y_pred) * 100))"
      ],
      "execution_count": null,
      "outputs": [
        {
          "output_type": "stream",
          "text": [
            "Starting gradient descent for 3000 iterations\n",
            "Iteration number  0\n",
            "Iteration number  1000\n",
            "Iteration number  2000\n"
          ],
          "name": "stdout"
        },
        {
          "output_type": "display_data",
          "data": {
            "image/png": "[encoded data removed]",
            "text/plain": [
              "<Figure size 432x288 with 1 Axes>"
            ]
          },
          "metadata": {
            "tags": [],
            "needs_background": "light"
          }
        },
        {
          "output_type": "stream",
          "text": [
            "\n",
            "\n",
            "Prediction accuracy is 89.84700973574408%\n"
          ],
          "name": "stdout"
        }
      ]
    },
    {
      "cell_type": "code",
      "metadata": {
        "colab": {
          "base_uri": "https://localhost:8080/",
          "height": 413
        },
        "id": "F7O6_ymSjjau",
        "outputId": "5679d75a-2af5-45e2-c3db-c66cb5dfb570"
      },
      "source": [
        "# train the NN with the nn_structure and 3000 iterations and alpha 0.8\n",
        "W, b, costs = train_nn(nn_structure, X_train, y_train_vector, iter_num=3000, alpha=0.8, activation_function = sigmoid, activation_function_deriv = sigmoid_deriv)\n",
        "# plot the avg_cost_func \n",
        "plt.plot(costs)  \n",
        "# x label: \"Iteration number\"\n",
        "plt.xlabel('Iteration number')\n",
        "# y label: \"Average J\"\n",
        "plt.ylabel('Average J')\n",
        "plt.title(\"Activation function: sigmoid, alpha = 0.8\")\n",
        "plt.show()\n",
        "\n",
        "# get the prediction accuracy and print\n",
        "y_pred = predict_y(W, b, X_test, 3, activation_function= sigmoid)\n",
        "print('\\n\\nPrediction accuracy is {}%'.format(accuracy_score(y_test, y_pred) * 100))"
      ],
      "execution_count": null,
      "outputs": [
        {
          "output_type": "stream",
          "text": [
            "Starting gradient descent for 3000 iterations\n",
            "Iteration number  0\n",
            "Iteration number  1000\n",
            "Iteration number  2000\n"
          ],
          "name": "stdout"
        },
        {
          "output_type": "display_data",
          "data": {
            "image/png": "[encoded data removed]",
            "text/plain": [
              "<Figure size 432x288 with 1 Axes>"
            ]
          },
          "metadata": {
            "tags": [],
            "needs_background": "light"
          }
        },
        {
          "output_type": "stream",
          "text": [
            "\n",
            "\n",
            "Prediction accuracy is 92.35048678720446%\n"
          ],
          "name": "stdout"
        }
      ]
    },
    {
      "cell_type": "code",
      "metadata": {
        "colab": {
          "base_uri": "https://localhost:8080/",
          "height": 413
        },
        "id": "s5nBEqZNjp-g",
        "outputId": "dc139e12-a6f7-4a5a-b9b6-78e7c840b071"
      },
      "source": [
        "W, b, costs = train_nn(nn_structure, X_train, y_train_vector, iter_num=3000, alpha=0.8, activation_function = ReLu, activation_function_deriv = ReLu_deriv)\n",
        "# plot the avg_cost_func \n",
        "plt.plot(costs)  \n",
        "# x label: \"Iteration number\"\n",
        "plt.xlabel('Iteration number')\n",
        "# y label: \"Average J\"\n",
        "plt.ylabel('Average J')\n",
        "plt.title(\"Activation function: ReLu, alpha = 0.8\")\n",
        "plt.show()\n",
        "\n",
        "# get the prediction accuracy and print\n",
        "y_pred = predict_y(W, b, X_test, 3, activation_function= ReLu)\n",
        "print('\\n\\nPrediction accuracy is {}%'.format(accuracy_score(y_test, y_pred) * 100))"
      ],
      "execution_count": null,
      "outputs": [
        {
          "output_type": "stream",
          "text": [
            "Starting gradient descent for 3000 iterations\n",
            "Iteration number  0\n",
            "Iteration number  1000\n",
            "Iteration number  2000\n"
          ],
          "name": "stdout"
        },
        {
          "output_type": "display_data",
          "data": {
            "image/png": "[encoded data removed]",
            "text/plain": [
              "<Figure size 432x288 with 1 Axes>"
            ]
          },
          "metadata": {
            "tags": [],
            "needs_background": "light"
          }
        },
        {
          "output_type": "stream",
          "text": [
            "\n",
            "\n",
            "Prediction accuracy is 9.457579972183588%\n"
          ],
          "name": "stdout"
        }
      ]
    },
    {
      "cell_type": "code",
      "metadata": {
        "colab": {
          "base_uri": "https://localhost:8080/",
          "height": 413
        },
        "id": "Q3ZtF4uMjtuN",
        "outputId": "fe817452-09f5-4da4-f8ea-c43536306411"
      },
      "source": [
        "W, b, costs = train_nn(nn_structure, X_train, y_train_vector, iter_num=3000, alpha=0.8, activation_function = tanh, activation_function_deriv = tanh_deriv)\n",
        "# plot the avg_cost_func \n",
        "plt.plot(costs)  \n",
        "# x label: \"Iteration number\"\n",
        "plt.xlabel('Iteration number')\n",
        "# y label: \"Average J\"\n",
        "plt.ylabel('Average J')\n",
        "plt.title(\"Activation function: tanh, alpha = 0.8\")\n",
        "plt.show()\n",
        "\n",
        "# get the prediction accuracy and print\n",
        "y_pred = predict_y(W, b, X_test, 3, activation_function= tanh)\n",
        "print('\\n\\nPrediction accuracy is {}%'.format(accuracy_score(y_test, y_pred) * 100))"
      ],
      "execution_count": null,
      "outputs": [
        {
          "output_type": "stream",
          "text": [
            "Starting gradient descent for 3000 iterations\n",
            "Iteration number  0\n",
            "Iteration number  1000\n",
            "Iteration number  2000\n"
          ],
          "name": "stdout"
        },
        {
          "output_type": "display_data",
          "data": {
            "image/png": "[encoded data removed]",
            "text/plain": [
              "<Figure size 432x288 with 1 Axes>"
            ]
          },
          "metadata": {
            "tags": [],
            "needs_background": "light"
          }
        },
        {
          "output_type": "stream",
          "text": [
            "\n",
            "\n",
            "Prediction accuracy is 92.07232267037551%\n"
          ],
          "name": "stdout"
        }
      ]
    },
    {
      "cell_type": "markdown",
      "metadata": {
        "id": "pF5pGW2Kj9O-"
      },
      "source": [
        "Experimenting with different number of iterations, 1500 and 700"
      ]
    },
    {
      "cell_type": "code",
      "metadata": {
        "colab": {
          "base_uri": "https://localhost:8080/",
          "height": 396
        },
        "id": "bvMwSVbLkFUU",
        "outputId": "070c2800-9d1a-4c1b-d468-138d734722f9"
      },
      "source": [
        "# train the NN with the nn_structure and 1500 iterations\n",
        "W, b, costs = train_nn(nn_structure, X_train, y_train_vector, iter_num=1500, alpha=0.25, activation_function = sigmoid, activation_function_deriv = sigmoid_deriv)\n",
        "# plot the avg_cost_func \n",
        "plt.plot(costs)  \n",
        "# x label: \"Iteration number\"\n",
        "plt.xlabel('Iteration number')\n",
        "# y label: \"Average J\"\n",
        "plt.ylabel('Average J')\n",
        "plt.title(\"Activation function: sigmoid, iter_num = 1500\")\n",
        "plt.show()\n",
        "\n",
        "# get the prediction accuracy and print\n",
        "y_pred = predict_y(W, b, X_test, 3, activation_function= sigmoid)\n",
        "print('\\n\\nPrediction accuracy is {}%'.format(accuracy_score(y_test, y_pred) * 100))"
      ],
      "execution_count": null,
      "outputs": [
        {
          "output_type": "stream",
          "text": [
            "Starting gradient descent for 1500 iterations\n",
            "Iteration number  0\n",
            "Iteration number  1000\n"
          ],
          "name": "stdout"
        },
        {
          "output_type": "display_data",
          "data": {
            "image/png": "[encoded data removed]",
            "text/plain": [
              "<Figure size 432x288 with 1 Axes>"
            ]
          },
          "metadata": {
            "tags": [],
            "needs_background": "light"
          }
        },
        {
          "output_type": "stream",
          "text": [
            "\n",
            "\n",
            "Prediction accuracy is 71.48817802503477%\n"
          ],
          "name": "stdout"
        }
      ]
    },
    {
      "cell_type": "code",
      "metadata": {
        "colab": {
          "base_uri": "https://localhost:8080/",
          "height": 430
        },
        "id": "fdN3GjM4kRu5",
        "outputId": "6ae7ef37-73f9-43f9-ca65-9cc29239e8e2"
      },
      "source": [
        "W, b, costs = train_nn(nn_structure, X_train, y_train_vector, iter_num=1500, alpha=0.25, activation_function = ReLu, activation_function_deriv = ReLu_deriv)\n",
        "# plot the avg_cost_func \n",
        "plt.plot(costs)  \n",
        "# x label: \"Iteration number\"\n",
        "plt.xlabel('Iteration number')\n",
        "# y label: \"Average J\"\n",
        "plt.ylabel('Average J')\n",
        "plt.title(\"Activation function: ReLu, iter_num = 1500\")\n",
        "plt.show()\n",
        "\n",
        "# get the prediction accuracy and print\n",
        "y_pred = predict_y(W, b, X_test, 3, activation_function= sigmoid)\n",
        "print('\\n\\nPrediction accuracy is {}%'.format(accuracy_score(y_test, y_pred) * 100))"
      ],
      "execution_count": null,
      "outputs": [
        {
          "output_type": "stream",
          "text": [
            "Starting gradient descent for 1500 iterations\n",
            "Iteration number  0\n",
            "Iteration number  1000\n"
          ],
          "name": "stdout"
        },
        {
          "output_type": "display_data",
          "data": {
            "image/png": "[encoded data removed]",
            "text/plain": [
              "<Figure size 432x288 with 1 Axes>"
            ]
          },
          "metadata": {
            "tags": [],
            "needs_background": "light"
          }
        },
        {
          "output_type": "stream",
          "text": [
            "\n",
            "\n",
            "Prediction accuracy is 10.15299026425591%\n"
          ],
          "name": "stdout"
        },
        {
          "output_type": "stream",
          "text": [
            "/usr/local/lib/python3.7/dist-packages/ipykernel_launcher.py:3: RuntimeWarning: overflow encountered in exp\n",
            "  This is separate from the ipykernel package so we can avoid doing imports until\n"
          ],
          "name": "stderr"
        }
      ]
    },
    {
      "cell_type": "code",
      "metadata": {
        "colab": {
          "base_uri": "https://localhost:8080/",
          "height": 396
        },
        "id": "F6zVZIfzkSuW",
        "outputId": "ceed788e-6674-41a8-aefe-d92941a02f6d"
      },
      "source": [
        "W, b, costs = train_nn(nn_structure, X_train, y_train_vector, iter_num=1500, alpha=0.25, activation_function = tanh, activation_function_deriv = tanh_deriv)\n",
        "# plot the avg_cost_func \n",
        "plt.plot(costs)  \n",
        "# x label: \"Iteration number\"\n",
        "plt.xlabel('Iteration number')\n",
        "# y label: \"Average J\"\n",
        "plt.ylabel('Average J')\n",
        "plt.title(\"Activation function: tanh, iter_num = 1500\")\n",
        "plt.show()\n",
        "\n",
        "# get the prediction accuracy and print\n",
        "y_pred = predict_y(W, b, X_test, 3, activation_function= sigmoid)\n",
        "print('\\n\\nPrediction accuracy is {}%'.format(accuracy_score(y_test, y_pred) * 100))"
      ],
      "execution_count": null,
      "outputs": [
        {
          "output_type": "stream",
          "text": [
            "Starting gradient descent for 1500 iterations\n",
            "Iteration number  0\n",
            "Iteration number  1000\n"
          ],
          "name": "stdout"
        },
        {
          "output_type": "display_data",
          "data": {
            "image/png": "[encoded data removed]",
            "text/plain": [
              "<Figure size 432x288 with 1 Axes>"
            ]
          },
          "metadata": {
            "tags": [],
            "needs_background": "light"
          }
        },
        {
          "output_type": "stream",
          "text": [
            "\n",
            "\n",
            "Prediction accuracy is 84.84005563282336%\n"
          ],
          "name": "stdout"
        }
      ]
    },
    {
      "cell_type": "code",
      "metadata": {
        "colab": {
          "base_uri": "https://localhost:8080/",
          "height": 379
        },
        "id": "DJGbpJtBkbIA",
        "outputId": "4e44a897-a3d6-4f83-f74c-86914c01f81b"
      },
      "source": [
        "# train the NN with the nn_structure and 700 iterations\n",
        "W, b, costs = train_nn(nn_structure, X_train, y_train_vector, iter_num=700, alpha=0.25, activation_function = sigmoid, activation_function_deriv = sigmoid_deriv)\n",
        "# plot the avg_cost_func \n",
        "plt.plot(costs)  \n",
        "# x label: \"Iteration number\"\n",
        "plt.xlabel('Iteration number')\n",
        "# y label: \"Average J\"\n",
        "plt.ylabel('Average J')\n",
        "plt.title(\"Activation function: sigmoid, iter_num = 700\")\n",
        "plt.show()\n",
        "\n",
        "# get the prediction accuracy and print\n",
        "y_pred = predict_y(W, b, X_test, 3, activation_function= sigmoid)\n",
        "print('\\n\\nPrediction accuracy is {}%'.format(accuracy_score(y_test, y_pred) * 100))"
      ],
      "execution_count": null,
      "outputs": [
        {
          "output_type": "stream",
          "text": [
            "Starting gradient descent for 700 iterations\n",
            "Iteration number  0\n"
          ],
          "name": "stdout"
        },
        {
          "output_type": "display_data",
          "data": {
            "image/png": "[encoded data removed]",
            "text/plain": [
              "<Figure size 432x288 with 1 Axes>"
            ]
          },
          "metadata": {
            "tags": [],
            "needs_background": "light"
          }
        },
        {
          "output_type": "stream",
          "text": [
            "\n",
            "\n",
            "Prediction accuracy is 49.09596662030598%\n"
          ],
          "name": "stdout"
        }
      ]
    },
    {
      "cell_type": "code",
      "metadata": {
        "colab": {
          "base_uri": "https://localhost:8080/",
          "height": 413
        },
        "id": "zuqs91MVkgL7",
        "outputId": "46751e03-e75e-4e36-a835-f329c8626bbb"
      },
      "source": [
        "W, b, costs = train_nn(nn_structure, X_train, y_train_vector, iter_num=700, alpha=0.25, activation_function = ReLu, activation_function_deriv = ReLu_deriv)\n",
        "# plot the avg_cost_func \n",
        "plt.plot(costs)  \n",
        "# x label: \"Iteration number\"\n",
        "plt.xlabel('Iteration number')\n",
        "# y label: \"Average J\"\n",
        "plt.ylabel('Average J')\n",
        "plt.title(\"Activation function: ReLu, iter_num = 700\")\n",
        "plt.show()\n",
        "# get the prediction accuracy and print\n",
        "y_pred = predict_y(W, b, X_test, 3, activation_function= sigmoid)\n",
        "print('\\n\\nPrediction accuracy is {}%'.format(accuracy_score(y_test, y_pred) * 100))"
      ],
      "execution_count": null,
      "outputs": [
        {
          "output_type": "stream",
          "text": [
            "Starting gradient descent for 700 iterations\n",
            "Iteration number  0\n"
          ],
          "name": "stdout"
        },
        {
          "output_type": "display_data",
          "data": {
            "image/png": "[encoded data removed]",
            "text/plain": [
              "<Figure size 432x288 with 1 Axes>"
            ]
          },
          "metadata": {
            "tags": [],
            "needs_background": "light"
          }
        },
        {
          "output_type": "stream",
          "text": [
            "\n",
            "\n",
            "Prediction accuracy is 3.05980528511822%\n"
          ],
          "name": "stdout"
        },
        {
          "output_type": "stream",
          "text": [
            "/usr/local/lib/python3.7/dist-packages/ipykernel_launcher.py:3: RuntimeWarning: overflow encountered in exp\n",
            "  This is separate from the ipykernel package so we can avoid doing imports until\n"
          ],
          "name": "stderr"
        }
      ]
    },
    {
      "cell_type": "code",
      "metadata": {
        "colab": {
          "base_uri": "https://localhost:8080/",
          "height": 379
        },
        "id": "PkmmNNdTkhHE",
        "outputId": "c46cb4e2-f5ea-42a9-f873-414e1acfb757"
      },
      "source": [
        "W, b, costs = train_nn(nn_structure, X_train, y_train_vector, iter_num=700, alpha=0.25, activation_function = tanh, activation_function_deriv = tanh_deriv)\n",
        "# plot the avg_cost_func \n",
        "plt.plot(costs)  \n",
        "# x label: \"Iteration number\"\n",
        "plt.xlabel('Iteration number')\n",
        "# y label: \"Average J\"\n",
        "plt.ylabel('Average J')\n",
        "plt.title(\"Activation function: tanh, iter_num = 700\")\n",
        "plt.show()\n",
        "\n",
        "# get the prediction accuracy and print\n",
        "y_pred = predict_y(W, b, X_test, 3, activation_function= sigmoid)\n",
        "print('\\n\\nPrediction accuracy is {}%'.format(accuracy_score(y_test, y_pred) * 100))"
      ],
      "execution_count": null,
      "outputs": [
        {
          "output_type": "stream",
          "text": [
            "Starting gradient descent for 700 iterations\n",
            "Iteration number  0\n"
          ],
          "name": "stdout"
        },
        {
          "output_type": "display_data",
          "data": {
            "image/png": "[encoded data removed]",
            "text/plain": [
              "<Figure size 432x288 with 1 Axes>"
            ]
          },
          "metadata": {
            "tags": [],
            "needs_background": "light"
          }
        },
        {
          "output_type": "stream",
          "text": [
            "\n",
            "\n",
            "Prediction accuracy is 78.30319888734353%\n"
          ],
          "name": "stdout"
        }
      ]
    },
    {
      "cell_type": "markdown",
      "metadata": {
        "id": "5kDg-GJRInVI"
      },
      "source": [
        "We can see that prediction accuracy is not really changing for ReLu function and is the lowest among them all. As we increase alpha, sigmoid shows pretty good accuracy. However, when we decrease iteration number, the accuracy decreaes and the best performinf function seems to be tahn."
      ]
    }
  ]
}